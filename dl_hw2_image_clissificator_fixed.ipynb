{
 "cells": [
  {
   "cell_type": "markdown",
   "metadata": {
    "cell_id": 1,
    "id": "kr9vAeEQlRVG"
   },
   "source": [
    "# Домашнее задание 2. Классификация изображений."
   ]
  },
  {
   "cell_type": "markdown",
   "metadata": {
    "cell_id": 3,
    "id": "BxX49gLclRVJ"
   },
   "source": [
    "В этом задании потребуется обучить классификатор изображений. Будем работать с датасетом, название которого раскрывать не будем. Можете посмотреть самостоятельно на картинки, которые в есть датасете. В нём 200 классов и около 5 тысяч картинок на каждый класс. Классы пронумерованы, как нетрудно догадаться, от 0 до 199. Скачать датасет можно вот [тут](https://yadi.sk/d/BNR41Vu3y0c7qA).\n",
    "\n",
    "Структура датасета простая -- есть директории train/ и val/, в которых лежат обучающие и валидационные данные. В train/ и val/ лежат директориии, соответствующие классам изображений, в которых лежат, собственно, сами изображения.\n",
    "\n",
    "__Задание__. Необходимо выполнить два задания\n",
    "\n",
    "1) Добейтесь accuracy **на валидации не менее 0.44**. В этом задании **запрещено** пользоваться предобученными моделями и ресайзом картинок. 5 баллов\n",
    "\n",
    "2) Добейтесь accuracy **на валидации не менее 0.84**. В этом задании делать ресайз и использовать претрейн можно. 5 баллов\n",
    "\n",
    "Напишите краткий отчёт о проделанных экспериментах. Что сработало и что не сработало? Почему вы решили, сделать так, а не иначе? Обязательно указывайте ссылки на чужой код, если вы его используете. Обязательно ссылайтесь на статьи / блогпосты / вопросы на stackoverflow / видосы от ютуберов-машинлернеров / курсы / подсказки от Дяди Васи и прочие дополнительные материалы, если вы их используете.\n",
    "\n",
    "Ваш код обязательно должен проходить все `assert`'ы ниже.\n",
    "\n",
    "__Использовать внешние данные для обучения строго запрещено в обоих заданиях. Также запрещено обучаться на валидационной выборке__.\n",
    "\n",
    "\n",
    "__Критерии оценки__: Оценка вычисляется по простой формуле: `min(10, 10 * Ваша accuracy / 0.44)` для первого задания и `min(10, 10 * (Ваша accuracy - 0.5) / 0.34)` для второго. Оценка округляется до десятых по арифметическим правилам.\n",
    "\n",
    "\n",
    "__Советы и указания__:\n",
    " - Наверняка вам потребуется много гуглить о классификации и о том, как заставить её работать. Это нормально, все гуглят. Но не забывайте, что нужно быть готовым за скатанный код отвечать :)\n",
    " - Используйте аугментации. Для этого пользуйтесь модулем `torchvision.transforms` или библиотекой [albumentations](https://github.com/albumentations-team/albumentations)\n",
    " - Можно обучать с нуля или файнтюнить (в зависимости от задания) модели из `torchvision`.\n",
    " - Рекомендуем написать вам сначала класс-датасет (или воспользоваться классом `ImageFolder`), который возвращает картинки и соответствующие им классы, а затем функции для трейна по шаблонам ниже. Однако делать это мы не заставляем. Если вам так неудобно, то можете писать код в удобном стиле. Однако учтите, что чрезмерное изменение нижеперечисленных шаблонов увеличит количество вопросов к вашему коду и повысит вероятность вызова на защиту :)\n",
    " - Валидируйте. Трекайте ошибки как можно раньше, чтобы не тратить время впустую.\n",
    " - Чтобы быстро отладить код, пробуйте обучаться на маленькой части датасета (скажем, 5-10 картинок просто чтобы убедиться что код запускается). Когда вы поняли, что смогли всё отдебажить, переходите обучению по всему датасету\n",
    " - На каждый запуск делайте ровно одно изменение в модели/аугментации/оптимайзере, чтобы понять, что и как влияет на результат.\n",
    " - Фиксируйте random seed.\n",
    " - Начинайте с простых моделей и постепенно переходите к сложным. Обучение лёгких моделей экономит много времени.\n",
    " - Ставьте расписание на learning rate. Уменьшайте его, когда лосс на валидации перестаёт убывать.\n",
    " - Советуем использовать GPU. Если у вас его нет, используйте google colab. Если вам неудобно его использовать на постоянной основе, напишите и отладьте весь код локально на CPU, а затем запустите уже написанный ноутбук в колабе. Авторское решение задания достигает требуемой точности в колабе за 15 минут обучения.\n",
    "\n",
    "Good luck & have fun! :)"
   ]
  },
  {
   "cell_type": "code",
   "execution_count": 3,
   "metadata": {
    "colab": {
     "base_uri": "https://localhost:8080/"
    },
    "id": "BaPSFxIz96tY",
    "outputId": "4c97bae5-1be8-46d1-8e73-e7691034241e"
   },
   "outputs": [
    {
     "name": "stdout",
     "output_type": "stream",
     "text": [
      "Collecting wandb\n",
      "  Downloading wandb-0.16.0-py3-none-any.whl (2.1 MB)\n",
      "\u001b[2K     \u001b[90m━━━━━━━━━━━━━━━━━━━━━━━━━━━━━━━━━━━━━━━━\u001b[0m \u001b[32m2.1/2.1 MB\u001b[0m \u001b[31m24.4 MB/s\u001b[0m eta \u001b[36m0:00:00\u001b[0m\n",
      "\u001b[?25hRequirement already satisfied: Click!=8.0.0,>=7.1 in /usr/local/lib/python3.10/dist-packages (from wandb) (8.1.7)\n",
      "Collecting GitPython!=3.1.29,>=1.0.0 (from wandb)\n",
      "  Downloading GitPython-3.1.40-py3-none-any.whl (190 kB)\n",
      "\u001b[2K     \u001b[90m━━━━━━━━━━━━━━━━━━━━━━━━━━━━━━━━━━━━━━━━\u001b[0m \u001b[32m190.6/190.6 kB\u001b[0m \u001b[31m27.5 MB/s\u001b[0m eta \u001b[36m0:00:00\u001b[0m\n",
      "\u001b[?25hRequirement already satisfied: requests<3,>=2.0.0 in /usr/local/lib/python3.10/dist-packages (from wandb) (2.31.0)\n",
      "Requirement already satisfied: psutil>=5.0.0 in /usr/local/lib/python3.10/dist-packages (from wandb) (5.9.5)\n",
      "Collecting sentry-sdk>=1.0.0 (from wandb)\n",
      "  Downloading sentry_sdk-1.34.0-py2.py3-none-any.whl (243 kB)\n",
      "\u001b[2K     \u001b[90m━━━━━━━━━━━━━━━━━━━━━━━━━━━━━━━━━━━━━━━━\u001b[0m \u001b[32m243.9/243.9 kB\u001b[0m \u001b[31m34.2 MB/s\u001b[0m eta \u001b[36m0:00:00\u001b[0m\n",
      "\u001b[?25hCollecting docker-pycreds>=0.4.0 (from wandb)\n",
      "  Downloading docker_pycreds-0.4.0-py2.py3-none-any.whl (9.0 kB)\n",
      "Requirement already satisfied: PyYAML in /usr/local/lib/python3.10/dist-packages (from wandb) (6.0.1)\n",
      "Collecting setproctitle (from wandb)\n",
      "  Downloading setproctitle-1.3.3-cp310-cp310-manylinux_2_5_x86_64.manylinux1_x86_64.manylinux_2_17_x86_64.manylinux2014_x86_64.whl (30 kB)\n",
      "Requirement already satisfied: setuptools in /usr/local/lib/python3.10/dist-packages (from wandb) (67.7.2)\n",
      "Requirement already satisfied: appdirs>=1.4.3 in /usr/local/lib/python3.10/dist-packages (from wandb) (1.4.4)\n",
      "Requirement already satisfied: protobuf!=4.21.0,<5,>=3.19.0 in /usr/local/lib/python3.10/dist-packages (from wandb) (3.20.3)\n",
      "Requirement already satisfied: six>=1.4.0 in /usr/local/lib/python3.10/dist-packages (from docker-pycreds>=0.4.0->wandb) (1.16.0)\n",
      "Collecting gitdb<5,>=4.0.1 (from GitPython!=3.1.29,>=1.0.0->wandb)\n",
      "  Downloading gitdb-4.0.11-py3-none-any.whl (62 kB)\n",
      "\u001b[2K     \u001b[90m━━━━━━━━━━━━━━━━━━━━━━━━━━━━━━━━━━━━━━━━\u001b[0m \u001b[32m62.7/62.7 kB\u001b[0m \u001b[31m10.2 MB/s\u001b[0m eta \u001b[36m0:00:00\u001b[0m\n",
      "\u001b[?25hRequirement already satisfied: charset-normalizer<4,>=2 in /usr/local/lib/python3.10/dist-packages (from requests<3,>=2.0.0->wandb) (3.3.2)\n",
      "Requirement already satisfied: idna<4,>=2.5 in /usr/local/lib/python3.10/dist-packages (from requests<3,>=2.0.0->wandb) (3.4)\n",
      "Requirement already satisfied: urllib3<3,>=1.21.1 in /usr/local/lib/python3.10/dist-packages (from requests<3,>=2.0.0->wandb) (2.0.7)\n",
      "Requirement already satisfied: certifi>=2017.4.17 in /usr/local/lib/python3.10/dist-packages (from requests<3,>=2.0.0->wandb) (2023.7.22)\n",
      "Collecting smmap<6,>=3.0.1 (from gitdb<5,>=4.0.1->GitPython!=3.1.29,>=1.0.0->wandb)\n",
      "  Downloading smmap-5.0.1-py3-none-any.whl (24 kB)\n",
      "Installing collected packages: smmap, setproctitle, sentry-sdk, docker-pycreds, gitdb, GitPython, wandb\n",
      "Successfully installed GitPython-3.1.40 docker-pycreds-0.4.0 gitdb-4.0.11 sentry-sdk-1.34.0 setproctitle-1.3.3 smmap-5.0.1 wandb-0.16.0\n",
      "Collecting pytorch_lightning\n",
      "  Downloading pytorch_lightning-2.1.1-py3-none-any.whl (776 kB)\n",
      "\u001b[2K     \u001b[90m━━━━━━━━━━━━━━━━━━━━━━━━━━━━━━━━━━━━━━━━\u001b[0m \u001b[32m776.3/776.3 kB\u001b[0m \u001b[31m7.7 MB/s\u001b[0m eta \u001b[36m0:00:00\u001b[0m\n",
      "\u001b[?25hCollecting torchmetrics\n",
      "  Downloading torchmetrics-1.2.0-py3-none-any.whl (805 kB)\n",
      "\u001b[2K     \u001b[90m━━━━━━━━━━━━━━━━━━━━━━━━━━━━━━━━━━━━━━━━\u001b[0m \u001b[32m805.2/805.2 kB\u001b[0m \u001b[31m14.1 MB/s\u001b[0m eta \u001b[36m0:00:00\u001b[0m\n",
      "\u001b[?25hRequirement already satisfied: numpy>=1.17.2 in /usr/local/lib/python3.10/dist-packages (from pytorch_lightning) (1.23.5)\n",
      "Requirement already satisfied: torch>=1.12.0 in /usr/local/lib/python3.10/dist-packages (from pytorch_lightning) (2.1.0+cu118)\n",
      "Requirement already satisfied: tqdm>=4.57.0 in /usr/local/lib/python3.10/dist-packages (from pytorch_lightning) (4.66.1)\n",
      "Requirement already satisfied: PyYAML>=5.4 in /usr/local/lib/python3.10/dist-packages (from pytorch_lightning) (6.0.1)\n",
      "Requirement already satisfied: fsspec[http]>2021.06.0 in /usr/local/lib/python3.10/dist-packages (from pytorch_lightning) (2023.6.0)\n",
      "Requirement already satisfied: packaging>=20.0 in /usr/local/lib/python3.10/dist-packages (from pytorch_lightning) (23.2)\n",
      "Requirement already satisfied: typing-extensions>=4.0.0 in /usr/local/lib/python3.10/dist-packages (from pytorch_lightning) (4.5.0)\n",
      "Collecting lightning-utilities>=0.8.0 (from pytorch_lightning)\n",
      "  Downloading lightning_utilities-0.9.0-py3-none-any.whl (23 kB)\n",
      "Requirement already satisfied: requests in /usr/local/lib/python3.10/dist-packages (from fsspec[http]>2021.06.0->pytorch_lightning) (2.31.0)\n",
      "Requirement already satisfied: aiohttp!=4.0.0a0,!=4.0.0a1 in /usr/local/lib/python3.10/dist-packages (from fsspec[http]>2021.06.0->pytorch_lightning) (3.8.6)\n",
      "Requirement already satisfied: filelock in /usr/local/lib/python3.10/dist-packages (from torch>=1.12.0->pytorch_lightning) (3.13.1)\n",
      "Requirement already satisfied: sympy in /usr/local/lib/python3.10/dist-packages (from torch>=1.12.0->pytorch_lightning) (1.12)\n",
      "Requirement already satisfied: networkx in /usr/local/lib/python3.10/dist-packages (from torch>=1.12.0->pytorch_lightning) (3.2.1)\n",
      "Requirement already satisfied: jinja2 in /usr/local/lib/python3.10/dist-packages (from torch>=1.12.0->pytorch_lightning) (3.1.2)\n",
      "Requirement already satisfied: triton==2.1.0 in /usr/local/lib/python3.10/dist-packages (from torch>=1.12.0->pytorch_lightning) (2.1.0)\n",
      "Requirement already satisfied: attrs>=17.3.0 in /usr/local/lib/python3.10/dist-packages (from aiohttp!=4.0.0a0,!=4.0.0a1->fsspec[http]>2021.06.0->pytorch_lightning) (23.1.0)\n",
      "Requirement already satisfied: charset-normalizer<4.0,>=2.0 in /usr/local/lib/python3.10/dist-packages (from aiohttp!=4.0.0a0,!=4.0.0a1->fsspec[http]>2021.06.0->pytorch_lightning) (3.3.2)\n",
      "Requirement already satisfied: multidict<7.0,>=4.5 in /usr/local/lib/python3.10/dist-packages (from aiohttp!=4.0.0a0,!=4.0.0a1->fsspec[http]>2021.06.0->pytorch_lightning) (6.0.4)\n",
      "Requirement already satisfied: async-timeout<5.0,>=4.0.0a3 in /usr/local/lib/python3.10/dist-packages (from aiohttp!=4.0.0a0,!=4.0.0a1->fsspec[http]>2021.06.0->pytorch_lightning) (4.0.3)\n",
      "Requirement already satisfied: yarl<2.0,>=1.0 in /usr/local/lib/python3.10/dist-packages (from aiohttp!=4.0.0a0,!=4.0.0a1->fsspec[http]>2021.06.0->pytorch_lightning) (1.9.2)\n",
      "Requirement already satisfied: frozenlist>=1.1.1 in /usr/local/lib/python3.10/dist-packages (from aiohttp!=4.0.0a0,!=4.0.0a1->fsspec[http]>2021.06.0->pytorch_lightning) (1.4.0)\n",
      "Requirement already satisfied: aiosignal>=1.1.2 in /usr/local/lib/python3.10/dist-packages (from aiohttp!=4.0.0a0,!=4.0.0a1->fsspec[http]>2021.06.0->pytorch_lightning) (1.3.1)\n",
      "Requirement already satisfied: MarkupSafe>=2.0 in /usr/local/lib/python3.10/dist-packages (from jinja2->torch>=1.12.0->pytorch_lightning) (2.1.3)\n",
      "Requirement already satisfied: idna<4,>=2.5 in /usr/local/lib/python3.10/dist-packages (from requests->fsspec[http]>2021.06.0->pytorch_lightning) (3.4)\n",
      "Requirement already satisfied: urllib3<3,>=1.21.1 in /usr/local/lib/python3.10/dist-packages (from requests->fsspec[http]>2021.06.0->pytorch_lightning) (2.0.7)\n",
      "Requirement already satisfied: certifi>=2017.4.17 in /usr/local/lib/python3.10/dist-packages (from requests->fsspec[http]>2021.06.0->pytorch_lightning) (2023.7.22)\n",
      "Requirement already satisfied: mpmath>=0.19 in /usr/local/lib/python3.10/dist-packages (from sympy->torch>=1.12.0->pytorch_lightning) (1.3.0)\n",
      "Installing collected packages: lightning-utilities, torchmetrics, pytorch_lightning\n",
      "Successfully installed lightning-utilities-0.9.0 pytorch_lightning-2.1.1 torchmetrics-1.2.0\n"
     ]
    }
   ],
   "source": [
    "!pip install wandb\n",
    "!pip3 install pytorch_lightning torchmetrics"
   ]
  },
  {
   "cell_type": "markdown",
   "metadata": {
    "id": "fB9_k3VxDlxB"
   },
   "source": [
    "**✨ Внимание ✨**\n",
    "\n",
    "В этом домашнем задании предлагается использовать библиотеку `pytorch_lightning`. Доступ к ее [документации](https://lightning.ai/docs/pytorch/stable/) заблокирован с территории РФ. Вы можете:\n",
    "\n",
    "1. Получить к ней доступ с помощью VPN.\n",
    "\n",
    "2. Собрать документацию самостоятельно. Для этого склонируйте [github-репозиторий](https://github.com/Lightning-AI/lightning/tree/master), запустите в нем терминал (на windows – git bash) и выполните команды:\n",
    "\n",
    "```shell\n",
    "git submodule update --init --recursive\n",
    "make docs\n",
    "```\n",
    "После этого откройте появившийся файл `docs/build/html/index.html`. Для работы команд в вашем окружении должен быть `pip`. Полная инструкция [по ссылке](https://github.com/Lightning-AI/lightning/tree/master/docs).\n",
    "\n",
    "3. Гуглить `<error message> pytorch lightning` или `<how to do this> pytorch lightning`. Stack overflow на территории РФ все еще доступен 😉\n",
    "\n",
    "4. Не пользоваться `pytorch_lightning` и написать цикл обучения модели самостоятельно. Например, по аналогии с функцией `fit` из [семинара 4](https://github.com/hse-ds/iad-deep-learning/blob/master/2023/seminars/04.%20Optim%20%26%20Lightning/04_Optim%26Lightning_solution.ipynb)."
   ]
  },
  {
   "cell_type": "code",
   "execution_count": 4,
   "metadata": {
    "colab": {
     "base_uri": "https://localhost:8080/",
     "height": 119
    },
    "id": "EWT3aFU9XmLJ",
    "outputId": "4018a809-7b88-4654-c41e-a88a53758840"
   },
   "outputs": [
    {
     "data": {
      "application/javascript": [
       "\n",
       "        window._wandbApiKey = new Promise((resolve, reject) => {\n",
       "            function loadScript(url) {\n",
       "            return new Promise(function(resolve, reject) {\n",
       "                let newScript = document.createElement(\"script\");\n",
       "                newScript.onerror = reject;\n",
       "                newScript.onload = resolve;\n",
       "                document.body.appendChild(newScript);\n",
       "                newScript.src = url;\n",
       "            });\n",
       "            }\n",
       "            loadScript(\"https://cdn.jsdelivr.net/npm/postmate/build/postmate.min.js\").then(() => {\n",
       "            const iframe = document.createElement('iframe')\n",
       "            iframe.style.cssText = \"width:0;height:0;border:none\"\n",
       "            document.body.appendChild(iframe)\n",
       "            const handshake = new Postmate({\n",
       "                container: iframe,\n",
       "                url: 'https://wandb.ai/authorize'\n",
       "            });\n",
       "            const timeout = setTimeout(() => reject(\"Couldn't auto authenticate\"), 5000)\n",
       "            handshake.then(function(child) {\n",
       "                child.on('authorize', data => {\n",
       "                    clearTimeout(timeout)\n",
       "                    resolve(data)\n",
       "                });\n",
       "            });\n",
       "            })\n",
       "        });\n",
       "    "
      ],
      "text/plain": [
       "<IPython.core.display.Javascript object>"
      ]
     },
     "metadata": {},
     "output_type": "display_data"
    },
    {
     "name": "stderr",
     "output_type": "stream",
     "text": [
      "\u001b[34m\u001b[1mwandb\u001b[0m: Logging into wandb.ai. (Learn how to deploy a W&B server locally: https://wandb.me/wandb-server)\n",
      "\u001b[34m\u001b[1mwandb\u001b[0m: You can find your API key in your browser here: https://wandb.ai/authorize\n",
      "wandb: Paste an API key from your profile and hit enter, or press ctrl+c to quit:"
     ]
    },
    {
     "name": "stdout",
     "output_type": "stream",
     "text": [
      " ··········\n"
     ]
    },
    {
     "name": "stderr",
     "output_type": "stream",
     "text": [
      "\u001b[34m\u001b[1mwandb\u001b[0m: Appending key for api.wandb.ai to your netrc file: /root/.netrc\n"
     ]
    },
    {
     "data": {
      "text/plain": [
       "True"
      ]
     },
     "execution_count": 4,
     "metadata": {},
     "output_type": "execute_result"
    }
   ],
   "source": [
    "# Возможно ниже будет не очень работать WandbLogger с первого разу, перезапустите kernel тетрадки\n",
    "import wandb\n",
    "\n",
    "wandb.login()"
   ]
  },
  {
   "cell_type": "code",
   "execution_count": 5,
   "metadata": {
    "cell_id": 4,
    "id": "LKcSNj4tlRVK"
   },
   "outputs": [],
   "source": [
    "import math\n",
    "import os\n",
    "import random\n",
    "import sys\n",
    "\n",
    "import matplotlib.pyplot as plt\n",
    "import numpy as np\n",
    "import pytorch_lightning as pl\n",
    "import torch\n",
    "import torchvision\n",
    "import torchvision.transforms as transforms\n",
    "from PIL import Image\n",
    "from pytorch_lightning.loggers import WandbLogger\n",
    "from torch import nn\n",
    "from torch.nn import functional as F\n",
    "from torch.utils.data import DataLoader\n",
    "from torchmetrics.functional import accuracy\n",
    "from torchvision.datasets import ImageFolder\n",
    "from tqdm import tqdm\n",
    "\n",
    "# You may add any imports you need"
   ]
  },
  {
   "cell_type": "code",
   "execution_count": 6,
   "metadata": {
    "id": "47YPLjDL-Mtv"
   },
   "outputs": [],
   "source": [
    "def seed_everything(seed):\n",
    "    # Фискирует максимум сидов.\n",
    "    # Это понадобится, чтобы сравнение оптимизаторов было корректным\n",
    "    random.seed(seed)\n",
    "    os.environ[\"PYTHONHASHSEED\"] = str(seed)\n",
    "    np.random.seed(seed)\n",
    "    torch.manual_seed(seed)\n",
    "    torch.cuda.manual_seed(seed)\n",
    "    torch.backends.cudnn.deterministic = True\n",
    "\n",
    "\n",
    "seed_everything(123456)"
   ]
  },
  {
   "cell_type": "code",
   "execution_count": 7,
   "metadata": {
    "colab": {
     "base_uri": "https://localhost:8080/"
    },
    "id": "gVKdh063AzhH",
    "outputId": "b6275c8a-2474-4851-ea9f-73e01033ec15"
   },
   "outputs": [
    {
     "name": "stdout",
     "output_type": "stream",
     "text": [
      "--2023-11-12 22:11:40--  https://www.dropbox.com/s/33l8lp62rmvtx40/dataset.zip?dl=1\n",
      "Resolving www.dropbox.com (www.dropbox.com)... 162.125.3.18, 2620:100:6018:18::a27d:312\n",
      "Connecting to www.dropbox.com (www.dropbox.com)|162.125.3.18|:443... connected.\n",
      "HTTP request sent, awaiting response... 302 Found\n",
      "Location: /s/dl/33l8lp62rmvtx40/dataset.zip [following]\n",
      "--2023-11-12 22:11:40--  https://www.dropbox.com/s/dl/33l8lp62rmvtx40/dataset.zip\n",
      "Reusing existing connection to www.dropbox.com:443.\n",
      "HTTP request sent, awaiting response... 302 Found\n",
      "Location: https://uc2d38ed6d793c8df6e95df01f26.dl.dropboxusercontent.com/cd/0/get/CHYqEPKRJELxDXzh762HmZlfQwwL_ndsmrkPaFWMuxHGcxfKv4lk3gbJemz_yYWI5dbHFy0CCEDkaXmmVdREalbGf7abr9xETFYNj3OhrJiKjAJ9VB64MUacdBiFp2_57C1adHdSDURhGup1xfuMZrdE/file?dl=1# [following]\n",
      "--2023-11-12 22:11:41--  https://uc2d38ed6d793c8df6e95df01f26.dl.dropboxusercontent.com/cd/0/get/CHYqEPKRJELxDXzh762HmZlfQwwL_ndsmrkPaFWMuxHGcxfKv4lk3gbJemz_yYWI5dbHFy0CCEDkaXmmVdREalbGf7abr9xETFYNj3OhrJiKjAJ9VB64MUacdBiFp2_57C1adHdSDURhGup1xfuMZrdE/file?dl=1\n",
      "Resolving uc2d38ed6d793c8df6e95df01f26.dl.dropboxusercontent.com (uc2d38ed6d793c8df6e95df01f26.dl.dropboxusercontent.com)... 162.125.8.15, 2620:100:6018:15::a27d:30f\n",
      "Connecting to uc2d38ed6d793c8df6e95df01f26.dl.dropboxusercontent.com (uc2d38ed6d793c8df6e95df01f26.dl.dropboxusercontent.com)|162.125.8.15|:443... connected.\n",
      "HTTP request sent, awaiting response... 200 OK\n",
      "Length: 220318689 (210M) [application/binary]\n",
      "Saving to: ‘dataset.zip’\n",
      "\n",
      "dataset.zip         100%[===================>] 210.11M  97.1MB/s    in 2.2s    \n",
      "\n",
      "2023-11-12 22:11:44 (97.1 MB/s) - ‘dataset.zip’ saved [220318689/220318689]\n",
      "\n"
     ]
    }
   ],
   "source": [
    "!wget https://www.dropbox.com/s/33l8lp62rmvtx40/dataset.zip?dl=1 -O dataset.zip && unzip -q dataset.zip"
   ]
  },
  {
   "cell_type": "markdown",
   "metadata": {
    "id": "RytEDW0ylRVN"
   },
   "source": [
    "## Задание 0"
   ]
  },
  {
   "cell_type": "markdown",
   "metadata": {
    "id": "2HZECedTvepi"
   },
   "source": [
    "### Что поможет сделать на 10 из 10 (одно задание - 5 баллов)"
   ]
  },
  {
   "cell_type": "markdown",
   "metadata": {
    "id": "dOioHGEiveso"
   },
   "source": [
    "1. Использовать все возможные методы оптимизации и эксперемнтировать с ними.\n",
    "2. Подбор learning rate. Пример из прошлого семинара как это делать: [Как найти lr](https://pytorch-lightning.readthedocs.io/en/1.4.5/advanced/lr_finder.html)\n",
    "\n",
    "```\n",
    "  trainer = pl.Trainer(accelerator=\"gpu\", max_epochs=2, auto_lr_find=True)\n",
    "\n",
    "  trainer.tune(module, train_dataloader, eval_dataloader)\n",
    "\n",
    "  trainer.fit(module, train_dataloader, eval_dataloader))\n",
    "```\n",
    "\n",
    "\n",
    "\n",
    "3. Аугментация данных. [Документация (полезная)](https://pytorch.org/vision/main/transforms.html), а также [библиотека albumentation](https://towardsdatascience.com/getting-started-with-albumentation-winning-deep-learning-image-augmentation-technique-in-pytorch-47aaba0ee3f8)\n",
    "4. Подбор архитектуры модели.\n",
    "5. Можно написать модель руками свою в YourNet, а можно импортировать не предобученную сетку известной архитектуры из модуля torchvision.models. Один из способов как можно сделать:\n",
    "\n",
    "  * `torchvision.models.resnet18(pretrained=False, num_classes=200).to(device)`\n",
    "  * Документация по возможным моделям и как их можно брать: [Документация (полезная)](https://pytorch.org/vision/stable/models.html)\n",
    "6. Правильно нормализовывать данные при создании, пример [тык, но тут и в целом гайд от и до](https://www.pluralsight.com/guides/image-classification-with-pytorch)\n",
    "7. Model Checkpointing. Сохраняйте свой прогресс (модели), чтобы когда что-то пойдет не так вы сможете начать с этого места или просто воспроизвести свои результаты модели, которые обучали.\n",
    " * Пример как можно с wandb тут: [Сохраняем лучшие модели в wandb](https://docs.wandb.ai/guides/integrations/lightning)\n",
    " * По простому можно так: [Сохраняем модели в pytorch дока](https://pytorch.org/tutorials/beginner/saving_loading_models.html)"
   ]
  },
  {
   "cell_type": "markdown",
   "metadata": {
    "id": "WYePsQgNRB-n"
   },
   "source": [
    "### Подготовка данных"
   ]
  },
  {
   "cell_type": "code",
   "execution_count": 8,
   "metadata": {
    "cell_id": 5,
    "colab": {
     "base_uri": "https://localhost:8080/"
    },
    "id": "QEdDQtHdlRVO",
    "outputId": "1cdaf284-b498-48c5-b80d-5748f78bd3cf"
   },
   "outputs": [
    {
     "name": "stderr",
     "output_type": "stream",
     "text": [
      "/usr/local/lib/python3.10/dist-packages/torch/utils/data/dataloader.py:557: UserWarning: This DataLoader will create 4 worker processes in total. Our suggested max number of worker in current system is 2, which is smaller than what this DataLoader is going to create. Please be aware that excessive worker creation might get DataLoader running slow or even freeze, lower the worker number to avoid potential slowness/freeze if necessary.\n",
      "  warnings.warn(_create_warning_msg(\n"
     ]
    }
   ],
   "source": [
    "# YOU CAN DEFINE AUGMENTATIONS HERE\n",
    "import PIL\n",
    "train_transform = transforms.Compose(\n",
    "    [\n",
    "        transforms.RandomHorizontalFlip(),\n",
    "        transforms.ToTensor(),\n",
    "        transforms.Normalize((0.4914, 0.4822, 0.4465), (0.247, 0.243, 0.261))\n",
    "    ]\n",
    ")\n",
    "\n",
    "val_transform = transforms.Compose(\n",
    "    [\n",
    "        transforms.ToTensor(),\n",
    "        transforms.Normalize((0.4914, 0.4822, 0.4465), (0.247, 0.243, 0.261))\n",
    "    ]\n",
    ")\n",
    "\n",
    "train_dataset = ImageFolder('/content/dataset/dataset/train', transform=train_transform)\n",
    "val_dataset = ImageFolder('/content/dataset/dataset/val', transform=val_transform)\n",
    "# REPLACE ./dataset/dataset WITH THE FOLDER WHERE YOU DOWNLOADED AND UNZIPPED THE DATASET\n",
    "\n",
    "train_dataloader = DataLoader(train_dataset, batch_size = 32, shuffle=True, num_workers=4) # YOUR CODE HERE\n",
    "val_dataloader = DataLoader(val_dataset, batch_size = 32, shuffle=False, num_workers=4) # YOUR CODE HERE"
   ]
  },
  {
   "cell_type": "code",
   "execution_count": 9,
   "metadata": {
    "cell_id": 6,
    "colab": {
     "base_uri": "https://localhost:8080/"
    },
    "id": "mrg4Yj0VlRVP",
    "outputId": "913dfb7b-a78a-4138-ff34-9ddb14d08fa3"
   },
   "outputs": [
    {
     "name": "stdout",
     "output_type": "stream",
     "text": [
      "tests passed\n"
     ]
    }
   ],
   "source": [
    "# Just very simple sanity checks\n",
    "assert isinstance(train_dataset[0], tuple)\n",
    "assert len(train_dataset[0]) == 2\n",
    "assert isinstance(train_dataset[1][1], int)\n",
    "print(\"tests passed\")"
   ]
  },
  {
   "cell_type": "markdown",
   "metadata": {
    "id": "EOuM0EEYj7Ml"
   },
   "source": [
    "### Посмотрим на картиночки"
   ]
  },
  {
   "cell_type": "code",
   "execution_count": 9,
   "metadata": {
    "colab": {
     "base_uri": "https://localhost:8080/",
     "height": 881
    },
    "id": "DeuB0YC3LYRm",
    "outputId": "8ca06fd2-8f82-46d1-e510-42b2462e0daf"
   },
   "outputs": [
    {
     "name": "stderr",
     "output_type": "stream",
     "text": [
      "WARNING:matplotlib.image:Clipping input data to the valid range for imshow with RGB data ([0..1] for floats or [0..255] for integers).\n"
     ]
    },
    {
     "data": {
      "image/png": "[encoded data removed]",
      "text/plain": [
       "<Figure size 640x480 with 1 Axes>"
      ]
     },
     "metadata": {},
     "output_type": "display_data"
    },
    {
     "name": "stderr",
     "output_type": "stream",
     "text": [
      "WARNING:matplotlib.image:Clipping input data to the valid range for imshow with RGB data ([0..1] for floats or [0..255] for integers).\n"
     ]
    },
    {
     "data": {
      "image/png": "[encoded data removed]",
      "text/plain": [
       "<Figure size 640x480 with 1 Axes>"
      ]
     },
     "metadata": {},
     "output_type": "display_data"
    }
   ],
   "source": [
    "for batch in val_dataloader:\n",
    "    images, class_nums = batch\n",
    "    plt.imshow(images[5].permute(1, 2, 0))\n",
    "    plt.show()\n",
    "    plt.imshow(images[19].permute(1, 2, 0))\n",
    "    plt.show()\n",
    "    break"
   ]
  },
  {
   "cell_type": "markdown",
   "metadata": {
    "id": "LCwKB-3nKm1-"
   },
   "source": [
    "## Задание 1.\n",
    "\n",
    "5 баллов\n",
    "Добейтесь accuracy на валидации не менее 0.44. В этом задании запрещено пользоваться предобученными моделями и ресайзом картинок.\n",
    "\n",
    "\n",
    "Для того чтобы выбить скор (считается ниже) на 2.5/5 балла (то есть половину за задание) достаточно соблюдать пару простых жизненных правил:\n",
    "1. Аугментация (без нее сложно очень будет)\n",
    "2. Оптимайзеры можно (и нужно) использовать друг с другом. Однако когда что-то проверяете, то не меняйте несколько параметров сразу - собьете логику экспериментов\n",
    "3. Не используйте полносвязные модели или самые первые сверточные, используйте более современные архитектуры (что на лекциях встречались)\n",
    "4. Посмотреть все ноутбуки прошедших семинаров и слепить из них что-то общее. Семинарских тетрадок хватит сверх"
   ]
  },
  {
   "cell_type": "markdown",
   "metadata": {
    "id": "pWR2l6ymZfRJ"
   },
   "source": [
    "### Модель (или просто импортируйте не предобученную)"
   ]
  },
  {
   "cell_type": "code",
   "execution_count": 12,
   "metadata": {
    "id": "mDYorQXLZhTQ"
   },
   "outputs": [],
   "source": [
    "# class YourNet(torch.nn.Module):\n",
    "#     def __init__(self):\n",
    "#         super().__init__()\n",
    "#         # YOUR CODE HERE\n",
    "#         pass\n",
    "\n",
    "#     def _forward(self, x):\n",
    "#         # runs the Neural Network\n",
    "#         # YOUR CODE HERE\n",
    "#         pass\n",
    "\n",
    "#     def forward(self, images, target=None):\n",
    "#         # YOUR CODE HERE\n",
    "#         pass\n",
    "\n",
    "#     def get_accuracy(self, reset=False):\n",
    "#         # YOUR CODE HERE\n",
    "#         pass\n",
    "\n",
    "from torchvision.models import resnet18"
   ]
  },
  {
   "cell_type": "markdown",
   "metadata": {
    "id": "f7iHXWj1alM1"
   },
   "source": [
    "### Тренировочный класс lightning"
   ]
  },
  {
   "cell_type": "code",
   "execution_count": 13,
   "metadata": {
    "id": "lD76TeZ1apua"
   },
   "outputs": [],
   "source": [
    "class YourModule(pl.LightningModule):\n",
    "    def __init__(self, model, learning_rate=0.001):\n",
    "        super().__init__()\n",
    "        # YOUR CODE HERE\n",
    "        self.model = model\n",
    "        self.learning_rate = learning_rate\n",
    "        self.loss = nn.CrossEntropyLoss()\n",
    "\n",
    "    def forward(self, x):\n",
    "        # YOUR CODE HERE\n",
    "        preds = self.model(x)\n",
    "        return preds\n",
    "\n",
    "    def configure_optimizers(self):\n",
    "        # YOUR CODE HERE\n",
    "        self.optimizer = torch.optim.Adam(self.parameters(), lr=self.learning_rate)\n",
    "        return self.optimizer\n",
    "\n",
    "    def training_step(self, train_batch, batch_idx):\n",
    "        # YOUR CODE HERE\n",
    "        images, target = train_batch\n",
    "        preds = self.forward(images)\n",
    "        loss = self.loss(preds, target)\n",
    "        self.log(\"train_loss\", loss, prog_bar=True)\n",
    "        return loss\n",
    "\n",
    "    def validation_step(self, val_batch, batch_idx):\n",
    "        # YOUR CODE HERE\n",
    "\n",
    "        images, target = val_batch\n",
    "        preds = self.forward(images)\n",
    "        loss = self.loss(preds, target)\n",
    "        acc = accuracy(torch.argmax(preds, dim=-1).long(), target.long(), task='multiclass',num_classes=200)\n",
    "        self.log(\"val_loss\", loss, prog_bar=True)\n",
    "        self.log(\"accuracy\", acc, prog_bar=True)\n",
    "        return acc"
   ]
  },
  {
   "cell_type": "code",
   "execution_count": 14,
   "metadata": {
    "colab": {
     "base_uri": "https://localhost:8080/"
    },
    "id": "z9-1wq7QYkiz",
    "outputId": "b204881b-6d15-4e3a-be3d-24ef75488e50"
   },
   "outputs": [
    {
     "name": "stderr",
     "output_type": "stream",
     "text": [
      "/usr/local/lib/python3.10/dist-packages/torchvision/models/_utils.py:208: UserWarning: The parameter 'pretrained' is deprecated since 0.13 and may be removed in the future, please use 'weights' instead.\n",
      "  warnings.warn(\n",
      "/usr/local/lib/python3.10/dist-packages/torchvision/models/_utils.py:223: UserWarning: Arguments other than a weight enum or `None` for 'weights' are deprecated since 0.13 and may be removed in the future. The current behavior is equivalent to passing `weights=None`.\n",
      "  warnings.warn(msg)\n"
     ]
    }
   ],
   "source": [
    "wandb_logger = WandbLogger(log_model='all') # какие возможности дает с pytorch_lightning https://docs.wandb.ai/guides/integrations/lightning\n",
    "device = \"cuda:0\" if torch.cuda.is_available() else \"cpu\"\n",
    "\n",
    "model = resnet18(pretrained = False, num_classes=200).to(device) # YOUR CODE HERE\n",
    "module = YourModule(model) # YOUR CODE HERE"
   ]
  },
  {
   "cell_type": "code",
   "execution_count": 15,
   "metadata": {
    "colab": {
     "base_uri": "https://localhost:8080/",
     "height": 423,
     "referenced_widgets": [
      "f6894a52af364260be7bca8fa57949bc",
      "5afcd2764dfe43e8a8c9b977c476cc42",
      "059071fd79ba4dd4b0dc585da27a7f11",
      "3aa213e0cd0f472f85aaebb6c213a9a7",
      "5dfaff449bc347f292ce059ca3dafa70",
      "a3ba7b095b3f4f2fa81f7243d8e6d227",
      "6c66ef5c7ba84a9c98c12bc4a58d04ae",
      "ed0d95f0b8bb4d4680bbbc00e860bc8c",
      "7697ae1d8cdc4b32a36ac99e124bd615",
      "a0ca72b2ab2f4cb68acb1c150b360d02",
      "6b3c785ee9dc499887099e8e5ca2b174",
      "f2b13ccce0cb4e57be8ac50ccac554ab",
      "a5f4df711a334078b04f7a4945ccde97",
      "e8876d3d396a41a9928eaf93b882be98",
      "57037418aa894cbd8e88eecdf6eac1a6",
      "a03ad46bc13b43b5903842051a637b11",
      "eb79ba8ca87b49db8762cc81dbb175a7",
      "b5826ffe26204726ae97de3dfaf493a7",
      "3019cc0ad3664901b6cfdd3f97919650",
      "7db5876d70244eae929e6d518495f738",
      "adcb326071194a0d83b2960962636c83",
      "1261de430c2f4856881335679d3e1913",
      "808d9acc7086449b8587b701d4444005",
      "e06a8a380c9f472e862862ddc7782862",
      "170ca94f58194dafa66c9a94f1d3bf5d",
      "5a487cba6d114add92d7a5d620ef34f8",
      "9eecb1c1d8ce4c0fabb4342ad32c8f98",
      "8f9920ccc9a6413fa415ee930277f35a",
      "2201aa96a0824467b6b90eea3d3eb2e6",
      "bc578763e62c4a2183a959017394aeee",
      "0f864f0f794b45f98300f652206fdcc0",
      "60bd7047778f4665818de60056139ec2",
      "876a5b9d0f6b421398e239960e50a3e1",
      "067976760ae141608ecd5f53d618715a",
      "d807bf205b054d1a8227fe0eb3427bd1",
      "a97818e9493d4fa590af7588d1552523",
      "444ee73e5ad943a694c1e3362fecb2ef",
      "39442fe61ed448bf92d1644acd0a8be2",
      "a2813b23ef7644f6a507212764ca9f35",
      "e77ec32b6d9248f9a6ac7525e60b454e",
      "5b59d5d9c2ef447dbf7a62ce71827f78",
      "761e885df36d4aada5f8b45bf6141663",
      "0bda7dfde754444ebd3fb2d5da29e024",
      "9fa10711bfc8478fb05b8cbd7a4af2a2",
      "c5351f0c673a48ac9fd1afebf4e71bfa",
      "d650c4b895b1418a87f15cec8277ce29",
      "1a85a2f9d6dd470abe4750bc83a9568a",
      "53ed8b908b4040fabb135a6c7f99f0e0",
      "79b1a2bd510c4f60b5ec940c6ef3b44a",
      "9cc4c244017b4bcebe48fa44a9a89ba9",
      "524d5f60a7d346baa4146b1a51e079de",
      "556eaac1456a410f9a7c8b8a2aea7c92",
      "b42c1f81cc3047299925674d4f5d0152",
      "855aeedef33d4fe6befb316ad7431a30",
      "28b43a8135144c6c8d679371e7c453f8",
      "b27420e9b8f04fb58676a39b86328c18",
      "45583b3c713c44ad9f2c680d6d34e76d",
      "3f8e3b3a87424e7796fa151aa0945b18",
      "ae4ef9b411964fc9b287bc27814aa386",
      "abe20d6dad64405c9953fba02fe5ecd8",
      "85cfb31d9f834bc7bcc4146c3dffc5e5",
      "7e04c82ed6ef4647ad7a3d3317f18d5e",
      "d0456bfbce6b42918262820ec0e759f9",
      "b76d9b30da47467aab46507887e155f4",
      "236bb021b0504bfb89d463feaad86911",
      "90e1123281024b92aa41631cf0614963",
      "7f4aa36212e143a9b7b08ebfad8eef9e",
      "2fd3efdf3a9940a18b09f13f91e72b53",
      "46ef188474584970bd110607d1e9daf4",
      "e9a0bf701770432096723eccc495e6a6",
      "116aa8d3d4ea4046a2bbb5aa5eae4c60",
      "23cf3fef81fa41a4943243fc1b71ce74",
      "11eca4cb953743cd99bf34db30f436e6",
      "1ed0727b98b642689832c0ad4c79316d",
      "a08ceb5ede464b8e846fe1882229c61d",
      "0a434fcbd1fa410d820806d588d418c3",
      "b7aa4026cf694c9e8e55050e1666815a",
      "e34fc39c8e3a41a9806890454a66ef07",
      "bb350da181e04fc8b0c76d9a02938f3c",
      "61cf692a5c64495eace1e80a72844ce1",
      "4dfdc699ffad41a58ff6f0c8eaeabcca",
      "2fd72317974a409bb3060bb8ec8bc145",
      "daa4510059754a83bf7437b66a62ec22",
      "20781c25a9424fcebfc590c5b7ed44c8",
      "cae48c3912a0417e9ea99ed6ec206456",
      "1b821f4ef106447dbeb2e75b91107029",
      "280ce079b7194e23a9b82b42cf1b8da4",
      "b6ebf05bbf1f4aa884918852389000f6",
      "893af88f36d748b5a11ae304d49a9e5c",
      "a3ac5a51f2a748e08e2b9f86fc977e3c",
      "07a90dd0a95f4b8e990e91c37f930473",
      "c7b42bdc02bf48a2962cc365da1b95ab",
      "12adcc29f4ff462a9b4ae9ceef11ce84",
      "271647c2168c4e77b44e8179fa0ae9e4",
      "aaf0d7d0b40a48ac9520d2431f307f5c",
      "34092349906b4ecdbba4b617bb28fb1a",
      "39c599e9fd7f41dabf077243c23492f9",
      "bc1c5d0fac7944d8b2025c884838ca3d",
      "394d61c9cd074ef0a6ac9e0083ea9e22"
     ]
    },
    "id": "If8fi4HZkN3J",
    "outputId": "7a49a440-9fb0-4102-c795-607f1bcdfe8c"
   },
   "outputs": [
    {
     "name": "stderr",
     "output_type": "stream",
     "text": [
      "INFO:pytorch_lightning.utilities.rank_zero:GPU available: True (cuda), used: True\n",
      "INFO:pytorch_lightning.utilities.rank_zero:TPU available: False, using: 0 TPU cores\n",
      "INFO:pytorch_lightning.utilities.rank_zero:IPU available: False, using: 0 IPUs\n",
      "INFO:pytorch_lightning.utilities.rank_zero:HPU available: False, using: 0 HPUs\n",
      "\u001b[34m\u001b[1mwandb\u001b[0m: Currently logged in as: \u001b[33mlavandersky\u001b[0m (\u001b[33miad2023elina\u001b[0m). Use \u001b[1m`wandb login --relogin`\u001b[0m to force relogin\n"
     ]
    },
    {
     "data": {
      "text/html": [
       "Tracking run with wandb version 0.16.0"
      ],
      "text/plain": [
       "<IPython.core.display.HTML object>"
      ]
     },
     "metadata": {},
     "output_type": "display_data"
    },
    {
     "data": {
      "text/html": [
       "Run data is saved locally in <code>./wandb/run-20231112_221236-mm6yt9c1</code>"
      ],
      "text/plain": [
       "<IPython.core.display.HTML object>"
      ]
     },
     "metadata": {},
     "output_type": "display_data"
    },
    {
     "data": {
      "text/html": [
       "Syncing run <strong><a href='https://wandb.ai/iad2023elina/lightning_logs/runs/mm6yt9c1' target=\"_blank\">fallen-pyramid-5</a></strong> to <a href='https://wandb.ai/iad2023elina/lightning_logs' target=\"_blank\">Weights & Biases</a> (<a href='https://wandb.me/run' target=\"_blank\">docs</a>)<br/>"
      ],
      "text/plain": [
       "<IPython.core.display.HTML object>"
      ]
     },
     "metadata": {},
     "output_type": "display_data"
    },
    {
     "data": {
      "text/html": [
       " View project at <a href='https://wandb.ai/iad2023elina/lightning_logs' target=\"_blank\">https://wandb.ai/iad2023elina/lightning_logs</a>"
      ],
      "text/plain": [
       "<IPython.core.display.HTML object>"
      ]
     },
     "metadata": {},
     "output_type": "display_data"
    },
    {
     "data": {
      "text/html": [
       " View run at <a href='https://wandb.ai/iad2023elina/lightning_logs/runs/mm6yt9c1' target=\"_blank\">https://wandb.ai/iad2023elina/lightning_logs/runs/mm6yt9c1</a>"
      ],
      "text/plain": [
       "<IPython.core.display.HTML object>"
      ]
     },
     "metadata": {},
     "output_type": "display_data"
    },
    {
     "name": "stderr",
     "output_type": "stream",
     "text": [
      "INFO:pytorch_lightning.accelerators.cuda:LOCAL_RANK: 0 - CUDA_VISIBLE_DEVICES: [0]\n",
      "INFO:pytorch_lightning.callbacks.model_summary:\n",
      "  | Name  | Type             | Params\n",
      "-------------------------------------------\n",
      "0 | model | ResNet           | 11.3 M\n",
      "1 | loss  | CrossEntropyLoss | 0     \n",
      "-------------------------------------------\n",
      "11.3 M    Trainable params\n",
      "0         Non-trainable params\n",
      "11.3 M    Total params\n",
      "45.116    Total estimated model params size (MB)\n"
     ]
    },
    {
     "data": {
      "application/vnd.jupyter.widget-view+json": {
       "model_id": "f6894a52af364260be7bca8fa57949bc",
       "version_major": 2,
       "version_minor": 0
      },
      "text/plain": [
       "Sanity Checking: |          | 0/? [00:00<?, ?it/s]"
      ]
     },
     "metadata": {},
     "output_type": "display_data"
    },
    {
     "data": {
      "application/vnd.jupyter.widget-view+json": {
       "model_id": "f2b13ccce0cb4e57be8ac50ccac554ab",
       "version_major": 2,
       "version_minor": 0
      },
      "text/plain": [
       "Training: |          | 0/? [00:00<?, ?it/s]"
      ]
     },
     "metadata": {},
     "output_type": "display_data"
    },
    {
     "data": {
      "application/vnd.jupyter.widget-view+json": {
       "model_id": "808d9acc7086449b8587b701d4444005",
       "version_major": 2,
       "version_minor": 0
      },
      "text/plain": [
       "Validation: |          | 0/? [00:00<?, ?it/s]"
      ]
     },
     "metadata": {},
     "output_type": "display_data"
    },
    {
     "data": {
      "application/vnd.jupyter.widget-view+json": {
       "model_id": "067976760ae141608ecd5f53d618715a",
       "version_major": 2,
       "version_minor": 0
      },
      "text/plain": [
       "Validation: |          | 0/? [00:00<?, ?it/s]"
      ]
     },
     "metadata": {},
     "output_type": "display_data"
    },
    {
     "data": {
      "application/vnd.jupyter.widget-view+json": {
       "model_id": "c5351f0c673a48ac9fd1afebf4e71bfa",
       "version_major": 2,
       "version_minor": 0
      },
      "text/plain": [
       "Validation: |          | 0/? [00:00<?, ?it/s]"
      ]
     },
     "metadata": {},
     "output_type": "display_data"
    },
    {
     "data": {
      "application/vnd.jupyter.widget-view+json": {
       "model_id": "b27420e9b8f04fb58676a39b86328c18",
       "version_major": 2,
       "version_minor": 0
      },
      "text/plain": [
       "Validation: |          | 0/? [00:00<?, ?it/s]"
      ]
     },
     "metadata": {},
     "output_type": "display_data"
    },
    {
     "data": {
      "application/vnd.jupyter.widget-view+json": {
       "model_id": "7f4aa36212e143a9b7b08ebfad8eef9e",
       "version_major": 2,
       "version_minor": 0
      },
      "text/plain": [
       "Validation: |          | 0/? [00:00<?, ?it/s]"
      ]
     },
     "metadata": {},
     "output_type": "display_data"
    },
    {
     "data": {
      "application/vnd.jupyter.widget-view+json": {
       "model_id": "e34fc39c8e3a41a9806890454a66ef07",
       "version_major": 2,
       "version_minor": 0
      },
      "text/plain": [
       "Validation: |          | 0/? [00:00<?, ?it/s]"
      ]
     },
     "metadata": {},
     "output_type": "display_data"
    },
    {
     "data": {
      "application/vnd.jupyter.widget-view+json": {
       "model_id": "893af88f36d748b5a11ae304d49a9e5c",
       "version_major": 2,
       "version_minor": 0
      },
      "text/plain": [
       "Validation: |          | 0/? [00:00<?, ?it/s]"
      ]
     },
     "metadata": {},
     "output_type": "display_data"
    },
    {
     "name": "stderr",
     "output_type": "stream",
     "text": [
      "INFO:pytorch_lightning.utilities.rank_zero:`Trainer.fit` stopped: `max_epochs=7` reached.\n"
     ]
    }
   ],
   "source": [
    "trainer = pl.Trainer(logger=wandb_logger, accelerator='gpu', max_epochs=7)  # YOUR CODE HERE\n",
    "trainer.fit(module, train_dataloader, val_dataloader)  # YOUR CODE HERE"
   ]
  },
  {
   "cell_type": "markdown",
   "metadata": {
    "id": "3eoTAB1fSOuk"
   },
   "source": [
    "### Валидация результатов задания"
   ]
  },
  {
   "cell_type": "code",
   "execution_count": 18,
   "metadata": {
    "id": "4M_BAiMNl1rL"
   },
   "outputs": [],
   "source": [
    "# def evaluate_task(model, test_dataloader, device=\"cuda:0\"):\n",
    "#     model = model.to(device)\n",
    "#     model.eval()\n",
    "#     accuracy = 0.0\n",
    "#     for images, labels in tqdm(test_dataloader):\n",
    "#         images, labels = images.to(device), labels.to(device)\n",
    "#         with torch.no_grad():\n",
    "#             loss = model(images, labels)\n",
    "#             acc_batch = model.get_accuracy(reset=True)\n",
    "#         accuracy += acc_batch\n",
    "#     accuracy = accuracy / len(test_dataloader)\n",
    "#     return accuracy\n",
    "\n",
    "from sklearn.metrics import accuracy_score\n",
    "\n",
    "def evaluate_task(model, test_dataloader, device=\"cuda:0\"):\n",
    "    model = model.to(device)\n",
    "    predicted_classes = torch.Tensor([]).to(device)\n",
    "    true_classes = torch.Tensor([]).to(device)\n",
    "\n",
    "    model.eval()\n",
    "    with torch.no_grad():\n",
    "        for images, labels in tqdm(test_dataloader):\n",
    "            images, labels = images.to(device), labels.to(device)\n",
    "\n",
    "            pred = model(images)\n",
    "            pred_classes = torch.argmax(pred, dim=-1)\n",
    "\n",
    "            predicted_classes = torch.cat((predicted_classes, pred_classes), 0)\n",
    "            true_classes = torch.cat((true_classes, labels), 0)\n",
    "\n",
    "    return accuracy_score(predicted_classes.cpu().detach().numpy(), true_classes.cpu().detach().numpy())"
   ]
  },
  {
   "cell_type": "code",
   "execution_count": 19,
   "metadata": {
    "colab": {
     "base_uri": "https://localhost:8080/"
    },
    "id": "TsP57VG8KEfP",
    "outputId": "71f6c6e1-d82d-4d93-afe7-a6205ba8b586"
   },
   "outputs": [
    {
     "name": "stderr",
     "output_type": "stream",
     "text": [
      "\r",
      "  0%|          | 0/313 [00:00<?, ?it/s]/usr/local/lib/python3.10/dist-packages/torch/utils/data/dataloader.py:557: UserWarning: This DataLoader will create 4 worker processes in total. Our suggested max number of worker in current system is 2, which is smaller than what this DataLoader is going to create. Please be aware that excessive worker creation might get DataLoader running slow or even freeze, lower the worker number to avoid potential slowness/freeze if necessary.\n",
      "  warnings.warn(_create_warning_msg(\n",
      "100%|██████████| 313/313 [00:05<00:00, 54.01it/s]"
     ]
    },
    {
     "name": "stdout",
     "output_type": "stream",
     "text": [
      "Оценка за это задание составит 8.58 баллов\n"
     ]
    },
    {
     "name": "stderr",
     "output_type": "stream",
     "text": [
      "\n"
     ]
    }
   ],
   "source": [
    "from torchmetrics.functional import accuracy\n",
    "model = module\n",
    "\n",
    "accuracy = evaluate_task(model, val_dataloader)\n",
    "print(f\"Оценка за это задание составит {np.clip(10 * accuracy / 0.44, 0, 10):.2f} баллов\")"
   ]
  },
  {
   "cell_type": "markdown",
   "metadata": {
    "id": "cZqSdlQQKukS"
   },
   "source": [
    "## Задание 2\n",
    "\n",
    "5 баллов\n",
    "Добейтесь accuracy на валидации не менее 0.84. В этом задании делать ресайз и использовать претрейн можно.\n",
    "\n",
    "Для того чтобы выбить скор (считается ниже) на 2.5/5 балла (то есть половину за задание) достаточно соблюдать пару простых жизненных правил:\n",
    "1. Аугментация (без нее сложно очень будет)\n",
    "2. Оптимайзеры можно (и нужно) использовать друг с другом. Однако когда что-то проверяете, то не меняйте несколько параметров сразу - собьете логику экспериментов\n",
    "3. Не используйте полносвязные модели или самые первые сверточные, используйте более современные архитектуры (что на лекциях встречались или можете пойти дальше).\n",
    "4. Попробуйте сначала посмотреть качество исходной модели без дообучения, сохраните как baseline. Отсюда поймете какие слои нужно дообучать.\n",
    "5. Посмотреть все ноутбуки прошедших семинаров и слепить из них что-то общее. Семинарских тетрадок хватит сверх"
   ]
  },
  {
   "cell_type": "markdown",
   "metadata": {
    "id": "zDzXM5rNxNQp"
   },
   "source": [
    "### Модель (или просто импортируйте предобученную)"
   ]
  },
  {
   "cell_type": "code",
   "execution_count": 26,
   "metadata": {
    "id": "sDr9l76AxH_9"
   },
   "outputs": [],
   "source": [
    "# class YourNet(torch.nn.Module):\n",
    "#     def __init__(self):\n",
    "#         super().__init__()\n",
    "#         # YOUR CODE HERE\n",
    "#         pass\n",
    "\n",
    "#     def _forward(self, x):\n",
    "#         # runs the Neural Network\n",
    "#         # YOUR CODE HERE\n",
    "#         pass\n",
    "\n",
    "#     def forward(self, images, target=None):\n",
    "#         # YOUR CODE HERE\n",
    "#         pass\n",
    "\n",
    "#     def get_accuracy(self, reset=False):\n",
    "#         # YOUR CODE HERE\n",
    "#         pass\n",
    "\n",
    "from torchvision.models import vit_b_16"
   ]
  },
  {
   "cell_type": "markdown",
   "metadata": {
    "id": "Flwqk0YjxPLE"
   },
   "source": [
    "### Тренировочный класс lightning"
   ]
  },
  {
   "cell_type": "code",
   "execution_count": 27,
   "metadata": {
    "id": "fIDcW1AihnPE"
   },
   "outputs": [],
   "source": [
    "# YOU CAN DEFINE AUGMENTATIONS HERE\n",
    "import PIL\n",
    "\n",
    "train_transform = transforms.Compose(\n",
    "    [\n",
    "        transforms.Resize((224, 224)),\n",
    "        transforms.RandomHorizontalFlip(),\n",
    "        transforms.ToTensor(),\n",
    "        transforms.Normalize((0.4914, 0.4822, 0.4465), (0.247, 0.243, 0.261))\n",
    "    ]\n",
    ")\n",
    "\n",
    "val_transform = transforms.Compose(\n",
    "    [\n",
    "        transforms.Resize((224, 224)),\n",
    "        transforms.ToTensor(),\n",
    "        transforms.Normalize((0.4914, 0.4822, 0.4465), (0.247, 0.243, 0.261))\n",
    "    ]\n",
    ")\n",
    "\n",
    "train_dataset = ImageFolder('/content/dataset/dataset/train', transform=train_transform)\n",
    "val_dataset = ImageFolder('/content/dataset/dataset/val', transform=val_transform)\n",
    "# REPLACE ./dataset/dataset WITH THE FOLDER WHERE YOU DOWNLOADED AND UNZIPPED THE DATASET\n",
    "\n",
    "train_dataloader = DataLoader(train_dataset, batch_size = 256, shuffle=True, num_workers=4)\n",
    "val_dataloader = DataLoader(val_dataset, batch_size = 256, shuffle=False, num_workers=4)"
   ]
  },
  {
   "cell_type": "code",
   "execution_count": 28,
   "metadata": {
    "id": "UnKHluO6xID4"
   },
   "outputs": [],
   "source": [
    "from torchmetrics.functional import accuracy\n",
    "\n",
    "\n",
    "class YourModule(pl.LightningModule):\n",
    "    def __init__(self, model, learning_rate=0.001):\n",
    "        super().__init__()\n",
    "        # YOUR CODE HERE\n",
    "        self.model = model\n",
    "        self.model.heads = nn.Identity()\n",
    "        self.classifier = nn.Linear(768, 200)\n",
    "        self.optimizer = torch.optim.Adam(self.classifier.parameters())\n",
    "        self.loss = nn.CrossEntropyLoss()\n",
    "\n",
    "    def forward(self, x):\n",
    "        # YOUR CODE HERE\n",
    "        with torch.no_grad():\n",
    "          features = self.model(x)\n",
    "        preds = self.classifier(features)\n",
    "        return preds\n",
    "\n",
    "    def configure_optimizers(self):\n",
    "        # YOUR CODE HERE\n",
    "        return self.optimizer\n",
    "\n",
    "    def training_step(self, train_batch, batch_idx):\n",
    "        # YOUR CODE HERE\n",
    "        images, target = train_batch\n",
    "        preds = self.forward(images)\n",
    "        loss = self.loss(preds, target)\n",
    "        self.log(\"train_loss\", loss, prog_bar=True)\n",
    "        return loss\n",
    "\n",
    "    def validation_step(self, val_batch, batch_idx):\n",
    "        # YOUR CODE HERE\n",
    "        images, target = val_batch\n",
    "        preds = self.forward(images)\n",
    "        loss = self.loss(preds, target)\n",
    "        acc = accuracy(torch.argmax(preds, dim=-1).long(), target.long(), task='multiclass',num_classes=200)\n",
    "        self.log(\"val_loss\", loss, prog_bar=True)\n",
    "        self.log(\"accuracy\", acc, prog_bar=True)\n",
    "        return acc"
   ]
  },
  {
   "cell_type": "code",
   "execution_count": 29,
   "metadata": {
    "colab": {
     "base_uri": "https://localhost:8080/"
    },
    "id": "lQAjkvkVyhEg",
    "outputId": "489e698e-0a66-4178-f33d-1f7bf88328ae"
   },
   "outputs": [
    {
     "name": "stderr",
     "output_type": "stream",
     "text": [
      "/usr/local/lib/python3.10/dist-packages/torchvision/models/_utils.py:208: UserWarning: The parameter 'pretrained' is deprecated since 0.13 and may be removed in the future, please use 'weights' instead.\n",
      "  warnings.warn(\n",
      "/usr/local/lib/python3.10/dist-packages/torchvision/models/_utils.py:223: UserWarning: Arguments other than a weight enum or `None` for 'weights' are deprecated since 0.13 and may be removed in the future. The current behavior is equivalent to passing `weights=ViT_B_16_Weights.IMAGENET1K_V1`. You can also use `weights=ViT_B_16_Weights.DEFAULT` to get the most up-to-date weights.\n",
      "  warnings.warn(msg)\n"
     ]
    }
   ],
   "source": [
    "wandb_logger = WandbLogger(log_model='all') # какие возможности дает с pytorch_lightning https://docs.wandb.ai/guides/integrations/lightning\n",
    "device = \"cuda:0\" if torch.cuda.is_available() else \"cpu\"\n",
    "\n",
    "model = vit_b_16(pretrained = True).to(device)\n",
    "module = YourModule(model) # YOUR CODE HERE"
   ]
  },
  {
   "cell_type": "code",
   "execution_count": 30,
   "metadata": {
    "colab": {
     "base_uri": "https://localhost:8080/",
     "height": 338,
     "referenced_widgets": [
      "11c6e1f214f94d6988b867c22642e61f",
      "01d3ee0d6f15489dbbd522707039189a",
      "fe0d40a4035647d09c6bc67456eb97b5",
      "599e12e485114544b479268c6302ecb8",
      "02d8bf058fd7440587c7fff382c7d00e",
      "b008a9cdc9e246d481f6bb0ab0c25c41",
      "762a3402e5b74b50ae237174816fc028",
      "91ab709ea2f54a91ba46ef91b6113476",
      "b892cbd37e7047ffac6c1e7431b27816",
      "2771266d489f4851b1f00e7247eb93e2",
      "e10643670be0489f8f59eba9500150de",
      "285a94782be54e5681f6ec53f238c354",
      "ebc25853fc634d57bccaf6d4313f43a4",
      "2e321daaa284451f927f7e3536be4a0e",
      "d1551e662f8e40ef8d98a1390ce8c217",
      "beeff5fbbbe74be1b83e42f15515a12b",
      "d3a7abe5df3b4af5bb514b14cb0e2135",
      "2e384da7ee2c49da956efb9d3d71a9e6",
      "8710e0ff26e447e1af45fb57fec8e6d7",
      "482fab0dc85c4a4da3cfe48ed94fb3f1",
      "bec88fa4d56d4f51a69a1f3c50c10c76",
      "db9bff5c323a4ae4b72a52840c704381",
      "49787fb9e17249cea2a0ab6b4e5b50f8",
      "da239fac68a1449b9e883dd7d46592d2",
      "3af1073840974415934faee12b700084",
      "c3612cd1978b400caff476ef22948e8b",
      "6264b9bd1d834ec080f9ccbcdabd4323",
      "2e381397af5b4185ae1e436f777158cb",
      "9fd4b81de22b448f8a0aa9325f294f7e",
      "2601aa795bac4bd697f2127e9649b625",
      "8294607e4ef54f708e6f8d6ef6db4b2e",
      "020c9910a7af4d41bd3cafa43f89027a",
      "8506858b984847a3a95dac2eeffe887a",
      "e4bd85616c02462c9b2c530162ba5e88",
      "c0c603f0d231476782ad56a08252a116",
      "b05b23b511d14c1c8e1e5896da082fdf",
      "3c5972be8161490aa17d2bf474d6a8c2",
      "32492059877e4af1908e515427edf85e",
      "9c8270c872aa40379590ce7cce8be953",
      "fe41b5648e174de59f20c7a06ebf5d9e",
      "1385b655688d4df098bc5eb6a3fd72e2",
      "7d573be3ec944668887885c0b711a9dc",
      "932d5e5145f141a08f96b4c8380d9bb7",
      "eac0d7f997014061bbc520dc4cd99df2"
     ]
    },
    "id": "T4wJgB1YyhG0",
    "outputId": "d6399c02-c9ce-47ea-b1dd-f22796d87c59"
   },
   "outputs": [
    {
     "name": "stderr",
     "output_type": "stream",
     "text": [
      "INFO:pytorch_lightning.utilities.rank_zero:GPU available: True (cuda), used: True\n",
      "INFO:pytorch_lightning.utilities.rank_zero:TPU available: False, using: 0 TPU cores\n",
      "INFO:pytorch_lightning.utilities.rank_zero:IPU available: False, using: 0 IPUs\n",
      "INFO:pytorch_lightning.utilities.rank_zero:HPU available: False, using: 0 HPUs\n",
      "INFO:pytorch_lightning.accelerators.cuda:LOCAL_RANK: 0 - CUDA_VISIBLE_DEVICES: [0]\n",
      "INFO:pytorch_lightning.callbacks.model_summary:\n",
      "  | Name       | Type              | Params\n",
      "-------------------------------------------------\n",
      "0 | model      | VisionTransformer | 85.8 M\n",
      "1 | classifier | Linear            | 153 K \n",
      "2 | loss       | CrossEntropyLoss  | 0     \n",
      "-------------------------------------------------\n",
      "86.0 M    Trainable params\n",
      "0         Non-trainable params\n",
      "86.0 M    Total params\n",
      "343.810   Total estimated model params size (MB)\n"
     ]
    },
    {
     "data": {
      "application/vnd.jupyter.widget-view+json": {
       "model_id": "11c6e1f214f94d6988b867c22642e61f",
       "version_major": 2,
       "version_minor": 0
      },
      "text/plain": [
       "Sanity Checking: |          | 0/? [00:00<?, ?it/s]"
      ]
     },
     "metadata": {},
     "output_type": "display_data"
    },
    {
     "data": {
      "application/vnd.jupyter.widget-view+json": {
       "model_id": "285a94782be54e5681f6ec53f238c354",
       "version_major": 2,
       "version_minor": 0
      },
      "text/plain": [
       "Training: |          | 0/? [00:00<?, ?it/s]"
      ]
     },
     "metadata": {},
     "output_type": "display_data"
    },
    {
     "data": {
      "application/vnd.jupyter.widget-view+json": {
       "model_id": "49787fb9e17249cea2a0ab6b4e5b50f8",
       "version_major": 2,
       "version_minor": 0
      },
      "text/plain": [
       "Validation: |          | 0/? [00:00<?, ?it/s]"
      ]
     },
     "metadata": {},
     "output_type": "display_data"
    },
    {
     "data": {
      "application/vnd.jupyter.widget-view+json": {
       "model_id": "e4bd85616c02462c9b2c530162ba5e88",
       "version_major": 2,
       "version_minor": 0
      },
      "text/plain": [
       "Validation: |          | 0/? [00:00<?, ?it/s]"
      ]
     },
     "metadata": {},
     "output_type": "display_data"
    },
    {
     "name": "stderr",
     "output_type": "stream",
     "text": [
      "INFO:pytorch_lightning.utilities.rank_zero:`Trainer.fit` stopped: `max_epochs=2` reached.\n"
     ]
    }
   ],
   "source": [
    "trainer = pl.Trainer(logger=wandb_logger, accelerator='gpu', max_epochs=2)  # YOUR CODE HERE\n",
    "trainer.fit(module, train_dataloader, val_dataloader)  # YOUR CODE HERE"
   ]
  },
  {
   "cell_type": "markdown",
   "metadata": {
    "id": "u5D2bwOKSHVp"
   },
   "source": [
    "### Валидация результатов задания"
   ]
  },
  {
   "cell_type": "code",
   "execution_count": 31,
   "metadata": {
    "colab": {
     "base_uri": "https://localhost:8080/"
    },
    "id": "PEdwJE5uOrIM",
    "outputId": "2953ee46-4150-4e5a-f737-e8fb9025906d"
   },
   "outputs": [
    {
     "name": "stderr",
     "output_type": "stream",
     "text": [
      "\n",
      "  0%|          | 0/40 [00:00<?, ?it/s]\u001b[A\n",
      "  2%|▎         | 1/40 [00:03<02:13,  3.44s/it]\u001b[A\n",
      "  5%|▌         | 2/40 [00:06<01:54,  3.02s/it]\u001b[A\n",
      "  8%|▊         | 3/40 [00:08<01:47,  2.89s/it]\u001b[A\n",
      " 10%|█         | 4/40 [00:11<01:42,  2.84s/it]\u001b[A\n",
      " 12%|█▎        | 5/40 [00:14<01:38,  2.82s/it]\u001b[A\n",
      " 15%|█▌        | 6/40 [00:17<01:35,  2.81s/it]\u001b[A\n",
      " 18%|█▊        | 7/40 [00:20<01:32,  2.80s/it]\u001b[A\n",
      " 20%|██        | 8/40 [00:22<01:29,  2.79s/it]\u001b[A\n",
      " 22%|██▎       | 9/40 [00:25<01:26,  2.80s/it]\u001b[A\n",
      " 25%|██▌       | 10/40 [00:28<01:24,  2.81s/it]\u001b[A\n",
      " 28%|██▊       | 11/40 [00:31<01:22,  2.83s/it]\u001b[A\n",
      " 30%|███       | 12/40 [00:34<01:19,  2.84s/it]\u001b[A\n",
      " 32%|███▎      | 13/40 [00:37<01:17,  2.86s/it]\u001b[A\n",
      " 35%|███▌      | 14/40 [00:40<01:14,  2.88s/it]\u001b[A\n",
      " 38%|███▊      | 15/40 [00:42<01:12,  2.90s/it]\u001b[A\n",
      " 40%|████      | 16/40 [00:45<01:10,  2.92s/it]\u001b[A\n",
      " 42%|████▎     | 17/40 [00:48<01:07,  2.93s/it]\u001b[A\n",
      " 45%|████▌     | 18/40 [00:51<01:05,  2.95s/it]\u001b[A\n",
      " 48%|████▊     | 19/40 [00:54<01:02,  2.97s/it]\u001b[A\n",
      " 50%|█████     | 20/40 [00:57<00:59,  2.98s/it]\u001b[A\n",
      " 52%|█████▎    | 21/40 [01:00<00:56,  2.98s/it]\u001b[A\n",
      " 55%|█████▌    | 22/40 [01:03<00:53,  2.99s/it]\u001b[A\n",
      " 57%|█████▊    | 23/40 [01:06<00:50,  2.99s/it]\u001b[A\n",
      " 60%|██████    | 24/40 [01:09<00:47,  3.00s/it]\u001b[A\n",
      " 62%|██████▎   | 25/40 [01:12<00:45,  3.00s/it]\u001b[A\n",
      " 65%|██████▌   | 26/40 [01:15<00:42,  3.01s/it]\u001b[A\n",
      " 68%|██████▊   | 27/40 [01:19<00:39,  3.02s/it]\u001b[A\n",
      " 70%|███████   | 28/40 [01:22<00:36,  3.04s/it]\u001b[A\n",
      " 72%|███████▎  | 29/40 [01:25<00:33,  3.05s/it]\u001b[A\n",
      " 75%|███████▌  | 30/40 [01:28<00:30,  3.06s/it]\u001b[A\n",
      " 78%|███████▊  | 31/40 [01:31<00:27,  3.08s/it]\u001b[A\n",
      " 80%|████████  | 32/40 [01:34<00:24,  3.09s/it]\u001b[A\n",
      " 82%|████████▎ | 33/40 [01:37<00:21,  3.10s/it]\u001b[A\n",
      " 85%|████████▌ | 34/40 [01:40<00:18,  3.12s/it]\u001b[A\n",
      " 88%|████████▊ | 35/40 [01:43<00:15,  3.13s/it]\u001b[A\n",
      " 90%|█████████ | 36/40 [01:47<00:12,  3.14s/it]\u001b[A\n",
      " 92%|█████████▎| 37/40 [01:50<00:09,  3.14s/it]\u001b[A\n",
      " 95%|█████████▌| 38/40 [01:53<00:06,  3.15s/it]\u001b[A\n",
      " 98%|█████████▊| 39/40 [01:56<00:03,  3.15s/it]\u001b[A\n",
      "100%|██████████| 40/40 [01:59<00:00,  3.00s/it]\n"
     ]
    },
    {
     "name": "stdout",
     "output_type": "stream",
     "text": [
      "Оценка за это задание составит 9.95 баллов\n"
     ]
    }
   ],
   "source": [
    "model = module # Подгрузить свою сохраненную модель сюда\n",
    "\n",
    "accuracy = evaluate_task(model, val_dataloader)\n",
    "print(f\"Оценка за это задание составит {np.clip(10 * (accuracy - 0.5) / 0.34, 0, 10):.2f} баллов\")"
   ]
  },
  {
   "cell_type": "markdown",
   "metadata": {
    "cell_id": 15,
    "id": "pT8vfPSolRVb"
   },
   "source": [
    "# Отчёт об экспериментах\n",
    "\n",
    "текст писать тут (или ссылочку на wandb/любой трекер экспреиментов) для каждого задания, то есть не обязательно именно тут рисовать графики, если вы используете готовые трекеры/мониторинги ваших моделей."
   ]
  },
  {
   "cell_type": "code",
   "execution_count": null,
   "metadata": {
    "id": "YkGZ3kuULB55"
   },
   "outputs": [],
   "source": []
  },
  {
   "cell_type": "markdown",
   "metadata": {
    "id": "4JjS7AqMzw-Y"
   },
   "source": [
    "**Задание 1**\n",
    "\n",
    "Везде ADAM\n",
    "\n",
    "Эксперимент 1. Не будем использования никаких аугментаций accuracy = 0.150 при одной эпохе, lr = 0.013, batch = 256\n",
    "\n",
    "Эксперимент 2. Добавим аугументацию transforms.RandomHorizontalFlip() и получим accuracy = 0.126 при одной эпохе, lr = 0.013, batch = 256\n",
    "\n",
    "Эксперимент 3. 10 эпох, transforms.RandomHorizontalFlip() lr = 0.013 дает нам accuracy = 0.328, lr = 0.013, batch = 256\n",
    "\n",
    "Эксперимент 4. 10 эпох, transforms.RandomHorizontalFlip(), transforms.RandomRotation(20, resample=PIL.Image.BILINEAR), lr = 0.013, дает нам accuracy = 0.328, batch = 256\n",
    "\n",
    "Эксперимент 5. 10 эпох, transforms.RandomHorizontalFlip(), lr = 0.008, batch = 256\n",
    "\n",
    "Эксперимент 6. 10 эпох, transforms.RandomHorizontalFlip(), transforms.RandomRotation(20, resample=PIL.Image.BILINEAR), lr = 0.001, accuracy = 0.370, ADAM\n",
    "\n",
    "Эксперимент 7. Попробовала transforms.RandomRotation(20, resample=PIL.Image.BILINEAR) на графике заметила что при моих гиперпараметрах получается сильно хуже, решила не делать\n",
    "\n",
    "Эксперимент 8. Увидев в эксперименте 6 наилучший вариант количества эпох с точки зрения accuracy выбрала n_epochs = 7, lr = 0,001, accuracy = 0,378, ADAM"
   ]
  },
  {
   "cell_type": "markdown",
   "metadata": {
    "id": "rRRa5Fj20fr2"
   },
   "source": [
    "**Задание 2**\n",
    "\n",
    "Еще в первом задании обнаружила, что аугументация с rotation на маленьком количестве эпох плохо работает поэтому делаю без нее\n",
    "\n",
    "Эксперимент 1.\n",
    "transforms.Resize((224, 224)) accuracy = 0.831, lr = 0.013, Adam\n",
    "\n",
    "Эксперимент 2.\n",
    "transforms.Resize((224, 224)),\n",
    "transforms.RandomHorizontalFlip(), 2 epoch - accuracy = 0.838, lr = 0.008 Adam\n",
    "\n",
    "Эксперимент 3.\n",
    "transforms.Resize((224, 224)),\n",
    "transforms.RandomHorizontalFlip(), 1 epoch - accuracy = 0.832, lr = 0.008 Adam\n",
    "\n",
    "Эксперимент 4.\n",
    "transforms.Resize((224, 224)),\n",
    "transforms.RandomHorizontalFlip(), 2 epoch - accuracy = 0,838, lr = 0.001 Adam\n"
   ]
  }
 ],
 "metadata": {
  "accelerator": "GPU",
  "colab": {
   "gpuType": "T4",
   "provenance": []
  },
  "kernelspec": {
   "display_name": "Python 3 (ipykernel)",
   "language": "python",
   "name": "python3"
  },
  "language_info": {
   "codemirror_mode": {
    "name": "ipython",
    "version": 3
   },
   "file_extension": ".py",
   "mimetype": "text/x-python",
   "name": "python",
   "nbconvert_exporter": "python",
   "pygments_lexer": "ipython3",
   "version": "3.9.13"
  },
  "max_cell_id": 35
 },
 "nbformat": 4,
 "nbformat_minor": 1
}
